{
 "cells": [
  {
   "cell_type": "markdown",
   "metadata": {},
   "source": [
    "# Imports"
   ]
  },
  {
   "cell_type": "code",
   "execution_count": null,
   "metadata": {
    "collapsed": false
   },
   "outputs": [],
   "source": [
    "import pandas as pd\n",
    "from sklearn.pipeline import make_pipeline\n",
    "from matplotlib import pyplot as plt\n",
    "import numpy as np\n",
    "%matplotlib inline\n",
    "from patsy import dmatrices\n",
    "from sklearn import cross_validation as cv\n",
    "from sklearn import linear_model, datasets, metrics\n",
    "import statsmodels.api as smf\n",
    "from sklearn.cross_validation import KFold\n",
    "from sklearn.preprocessing import PolynomialFeatures, StandardScaler\n",
    "import warnings\n",
    "warnings.filterwarnings('ignore')\n",
    "\n",
    "pd.set_option('display.mpl_style', 'default')               # Produces pretty plots!\n",
    "plt.rcParams['figure.figsize'] = (15, 15) "
   ]
  },
  {
   "cell_type": "markdown",
   "metadata": {},
   "source": [
    "# Read data"
   ]
  },
  {
   "cell_type": "code",
   "execution_count": null,
   "metadata": {
    "collapsed": false
   },
   "outputs": [],
   "source": [
    "data = pd.read_csv('result.csv')\n",
    "#try:\n",
    "    #data = data.drop(['western', 'war', 'Unnamed: 0.1', 'noir', 'mystery', 'Unnamed: 0', 'crime', \n",
    "                      #'adventure', 'animation', 'fantasy', 'musical', 'index',\n",
    "                      #'romance' ,'horror', 'scifi', 'id', 'dates', 'title.1'], axis=1)\n",
    "#except:\n",
    "    #pass\n",
    "data['domestic gross'] = data['domestic gross'].str.replace('$', '').str.replace(',', '').astype(float)\n",
    "data['production budget'] = data['production budget'].str.replace('$', '').str.replace(',', '').astype(float)\n",
    "#data.columns = (['action', 'children', 'comedy', 'date', 'docmentary', 'drama', 'thriller',\n",
    "                #'title', 'dgross', 'pbudget', 'wgross'])\n",
    "data = data[data['domestic gross'] > 0]\n",
    "data['dgross'] = data['domestic gross']\n",
    "data['pbudget'] = data['production budget']"
   ]
  },
  {
   "cell_type": "code",
   "execution_count": null,
   "metadata": {
    "collapsed": false
   },
   "outputs": [],
   "source": [
    "data.describe()"
   ]
  },
  {
   "cell_type": "code",
   "execution_count": null,
   "metadata": {
    "collapsed": false
   },
   "outputs": [],
   "source": [
    "data['log_budget']=np.log(data.pbudget)\n",
    "data['log_gross']=np.log(data.dgross)"
   ]
  },
  {
   "cell_type": "code",
   "execution_count": null,
   "metadata": {
    "collapsed": true
   },
   "outputs": [],
   "source": [
    "#data.replace([np.inf, -np.inf], np.nan)\n",
    "#data.dropna(inplace=True)"
   ]
  },
  {
   "cell_type": "code",
   "execution_count": null,
   "metadata": {
    "collapsed": false
   },
   "outputs": [],
   "source": [
    "# Lets take a look at our entire model\n",
    "pd.tools.plotting.scatter_matrix(data[['pbudget', 'dgross']])\n",
    "print ''"
   ]
  },
  {
   "cell_type": "code",
   "execution_count": null,
   "metadata": {
    "collapsed": false
   },
   "outputs": [],
   "source": [
    "pd.tools.plotting.scatter_matrix(data[['log_gross', 'log_budget']])\n",
    "print ''"
   ]
  },
  {
   "cell_type": "code",
   "execution_count": null,
   "metadata": {
    "collapsed": false
   },
   "outputs": [],
   "source": [
    "y, X = dmatrices('log_gross ~ log_budget + thriller + comedy + drama + documentary + action + animation + horror + fantasy + romance', data=data, return_type='dataframe')"
   ]
  },
  {
   "cell_type": "markdown",
   "metadata": {},
   "source": [
    "# Regular regression (statsmodels)"
   ]
  },
  {
   "cell_type": "code",
   "execution_count": null,
   "metadata": {
    "collapsed": true
   },
   "outputs": [],
   "source": [
    "model = smf.OLS(y, X)\n",
    "results = model.fit()"
   ]
  },
  {
   "cell_type": "code",
   "execution_count": null,
   "metadata": {
    "collapsed": false,
    "scrolled": true
   },
   "outputs": [],
   "source": [
    "results.summary()"
   ]
  },
  {
   "cell_type": "markdown",
   "metadata": {},
   "source": [
    "# sklearn"
   ]
  },
  {
   "cell_type": "code",
   "execution_count": null,
   "metadata": {
    "collapsed": true
   },
   "outputs": [],
   "source": [
    "y, X = dmatrices('dgross ~ pbudget', data=data, return_type='dataframe')"
   ]
  },
  {
   "cell_type": "code",
   "execution_count": null,
   "metadata": {
    "collapsed": false
   },
   "outputs": [],
   "source": [
    "model = linear_model.LinearRegression()\n",
    "model.fit(X, y)\n",
    "model.score(X, y)"
   ]
  },
  {
   "cell_type": "code",
   "execution_count": null,
   "metadata": {
    "collapsed": false
   },
   "outputs": [],
   "source": [
    "print model.coef_\n",
    "print model.intercept_"
   ]
  },
  {
   "cell_type": "markdown",
   "metadata": {},
   "source": [
    "# log transformation"
   ]
  },
  {
   "cell_type": "code",
   "execution_count": null,
   "metadata": {
    "collapsed": false
   },
   "outputs": [],
   "source": [
    "y, X = dmatrices('log_gross ~ log_budget', data=data, return_type='dataframe')"
   ]
  },
  {
   "cell_type": "code",
   "execution_count": null,
   "metadata": {
    "collapsed": false
   },
   "outputs": [],
   "source": [
    "model = linear_model.LinearRegression()\n",
    "model.fit(X, y)\n",
    "model.score(X, y)"
   ]
  },
  {
   "cell_type": "markdown",
   "metadata": {},
   "source": [
    "# Lasso/L1 regularization\n",
    "### good for large datasets / many features (will cause some to go to 0)"
   ]
  },
  {
   "cell_type": "code",
   "execution_count": null,
   "metadata": {
    "collapsed": true
   },
   "outputs": [],
   "source": [
    "y, X = dmatrices('log_gross ~ log_budget + thriller + comedy + drama + documentary + action + animation + horror + fantasy + romance', data=data, return_type='dataframe')"
   ]
  },
  {
   "cell_type": "code",
   "execution_count": null,
   "metadata": {
    "collapsed": true
   },
   "outputs": [],
   "source": [
    "import sklearn"
   ]
  },
  {
   "cell_type": "code",
   "execution_count": null,
   "metadata": {
    "collapsed": false
   },
   "outputs": [],
   "source": [
    "#X = sklearn.preprocesnormalize(X, axis=0)\n",
    "#y = sklearn.preprocesnormalize(y, axis=0)\n",
    "x_train, x_test, y_train, y_test = cv.train_test_split(X, y, test_size=0.20, random_state=1234)\n",
    "model_lasso1 = linear_model.LassoCV(eps=0.001, n_alphas=100, cv=10, normalize=True).fit(x_train, sklearn.utils.column_or_1d(y_train))\n",
    "\n",
    "#model_lasso1.predict(x_test,y_test)\n",
    "print(metrics.mean_squared_error(y_train, model_lasso1.predict(x_train)))\n",
    "print(metrics.mean_squared_error(y_test, model_lasso1.predict(x_test)))\n",
    "\n",
    "print('alpha=', model_lasso1.alpha_)\n",
    "m_alphas = model_lasso1.alphas_\n",
    "print model_lasso1.coef_"
   ]
  },
  {
   "cell_type": "code",
   "execution_count": null,
   "metadata": {
    "collapsed": false
   },
   "outputs": [],
   "source": [
    "model_lasso = linear_model.Lasso()\n",
    "model_lasso.fit(X, y)\n",
    "model_lasso.coef_"
   ]
  },
  {
   "cell_type": "code",
   "execution_count": null,
   "metadata": {
    "collapsed": false
   },
   "outputs": [],
   "source": [
    "model_lasso.score(X, y)"
   ]
  },
  {
   "cell_type": "markdown",
   "metadata": {},
   "source": [
    "# Ridge/L2 regularization -\n",
    "### causes outliers to be less likely"
   ]
  },
  {
   "cell_type": "code",
   "execution_count": null,
   "metadata": {
    "collapsed": false
   },
   "outputs": [],
   "source": [
    "model_ridge = linear_model.Ridge()\n",
    "model_ridge.fit(X, y)\n",
    "model_ridge.coef_"
   ]
  },
  {
   "cell_type": "code",
   "execution_count": null,
   "metadata": {
    "collapsed": false
   },
   "outputs": [],
   "source": [
    "model_ridge.score(X, y)"
   ]
  },
  {
   "cell_type": "markdown",
   "metadata": {},
   "source": [
    "# cross-validation"
   ]
  },
  {
   "cell_type": "code",
   "execution_count": null,
   "metadata": {
    "collapsed": true
   },
   "outputs": [],
   "source": [
    "y, X = dmatrices('dgross ~ pbudget', data=data, return_type='dataframe')"
   ]
  },
  {
   "cell_type": "code",
   "execution_count": null,
   "metadata": {
    "collapsed": false
   },
   "outputs": [],
   "source": [
    "X.head()"
   ]
  },
  {
   "cell_type": "code",
   "execution_count": null,
   "metadata": {
    "collapsed": false
   },
   "outputs": [],
   "source": [
    "model = linear_model.LinearRegression()\n",
    "print model.fit(X, y).score(X, y)\n",
    "from sklearn.cross_validation import train_test_split\n",
    "for k in xrange(10):\n",
    "    X_train, X_test, y_train, y_test = train_test_split(X, y, train_size=.8)\n",
    "    print model.fit(X_train, y_train).score(X_test, y_test).round(3), "
   ]
  },
  {
   "cell_type": "code",
   "execution_count": null,
   "metadata": {
    "collapsed": false
   },
   "outputs": [],
   "source": [
    "y_pred = model.predict(X)\n",
    "MAE = np.abs(y - y_pred).mean()\n",
    "MSE = np.square(y_pred - y).mean()\n",
    "print MAE, MSE"
   ]
  },
  {
   "cell_type": "code",
   "execution_count": null,
   "metadata": {
    "collapsed": true
   },
   "outputs": [],
   "source": [
    "x_train, x_test, y_train, y_test = cv.train_test_split(X,y,test_size=0.333,random_state=1234)"
   ]
  },
  {
   "cell_type": "code",
   "execution_count": null,
   "metadata": {
    "collapsed": false
   },
   "outputs": [],
   "source": [
    "model = linear_model.LinearRegression().fit(x_train, y_train)"
   ]
  },
  {
   "cell_type": "code",
   "execution_count": null,
   "metadata": {
    "collapsed": false
   },
   "outputs": [],
   "source": [
    "model.score(x_train, y_train)\n",
    "model.score(x_test, y_test)"
   ]
  },
  {
   "cell_type": "code",
   "execution_count": null,
   "metadata": {
    "collapsed": false
   },
   "outputs": [],
   "source": [
    "len(y_test)"
   ]
  },
  {
   "cell_type": "code",
   "execution_count": null,
   "metadata": {
    "collapsed": false
   },
   "outputs": [],
   "source": [
    "print(X_test.shape)\n",
    "print(y_test.shape)"
   ]
  },
  {
   "cell_type": "code",
   "execution_count": null,
   "metadata": {
    "collapsed": false
   },
   "outputs": [],
   "source": [
    "(X_test).T"
   ]
  },
  {
   "cell_type": "code",
   "execution_count": null,
   "metadata": {
    "collapsed": false
   },
   "outputs": [],
   "source": [
    "model.predict(X_test)"
   ]
  },
  {
   "cell_type": "code",
   "execution_count": null,
   "metadata": {
    "collapsed": false,
    "scrolled": true
   },
   "outputs": [],
   "source": [
    "plt.rcParams['figure.figsize'] = (5, 5) \n",
    "plt.scatter(y_test, model.predict(X_test))\n",
    "#plt.plot((X_test).T, model.predict(X_test))\n",
    "#plt.scatter(, y_test)\n",
    "plt.show()"
   ]
  },
  {
   "cell_type": "markdown",
   "metadata": {},
   "source": [
    "# Regression line"
   ]
  },
  {
   "cell_type": "raw",
   "metadata": {},
   "source": [
    "# Make sure that graphics appear inline in the iPython notebook\n",
    "#%pylab inline\n",
    "\n",
    "# We pick 100 hundred points equally spaced from the min to the max\n",
    "X_prime = np.linspace(X.GNP.min(), X.GNP.max(), 100)[:, np.newaxis]\n",
    "X_prime = sm.add_constant(X_prime)  # add constant as we did before\n",
    "\n",
    "# Now we calculate the predicted values\n",
    "y_hat = model.predict(X_prime)\n",
    "\n",
    "plt.scatter(model., y, alpha=0.3)  # Plot the raw data\n",
    "plt.xlabel(\"Features\")\n",
    "plt.ylabel(\"Domestic Gross\")\n",
    "plt.plot(X_prime[:, 1], y_hat, 'r', alpha=0.9)  # Add the regression line, colored in red"
   ]
  },
  {
   "cell_type": "code",
   "execution_count": null,
   "metadata": {
    "collapsed": false
   },
   "outputs": [],
   "source": [
    "y, X = dmatrices('dgross ~ pbudget + documentary + drama + comedy + thriller + fantasy + animation', data=data, return_type='dataframe')"
   ]
  },
  {
   "cell_type": "code",
   "execution_count": null,
   "metadata": {
    "collapsed": true
   },
   "outputs": [],
   "source": [
    "x_sample = data.log_budget\n",
    "y_sample = data.log_gross"
   ]
  },
  {
   "cell_type": "code",
   "execution_count": null,
   "metadata": {
    "collapsed": true
   },
   "outputs": [],
   "source": [
    "def analyze_performance(test_model):\n",
    "    scores = {'overfit': {}, 'cv': {}}\n",
    "    for degree in xrange(0, 30):\n",
    "        model = make_pipeline(StandardScaler(), PolynomialFeatures(degree), test_model)    \n",
    "        scores['overfit'][degree] = model.fit(X, y_sample).score(X, y_sample)\n",
    "        cv_scores = []\n",
    "        for k in xrange(15):  # Compute a few R2 scores and print average performance\n",
    "            X_train, X_test, y_train, y_test = train_test_split(X, y_sample, train_size=.7)\n",
    "            cv_scores.append(model.fit(X_train, y_train).score(X_test, y_test))\n",
    "        scores['cv'][degree] = np.mean(cv_scores)\n",
    "    return pd.DataFrame(scores)"
   ]
  },
  {
   "cell_type": "code",
   "execution_count": null,
   "metadata": {
    "collapsed": false
   },
   "outputs": [],
   "source": [
    "scores = analyze_performance(linear_model.LinearRegression())\n",
    "f = scores.plot(ylim=(-.05,1.05))\n",
    "f = plt.title(\"Best cv performance at degree %d\" % scores.cv.argmax()), plt.xlabel('degree'), plt.ylabel('$R^2$')"
   ]
  },
  {
   "cell_type": "code",
   "execution_count": null,
   "metadata": {
    "collapsed": true
   },
   "outputs": [],
   "source": [
    "domain = np.linspace(data.pbudget.min(), data.pbudget.max())"
   ]
  },
  {
   "cell_type": "code",
   "execution_count": null,
   "metadata": {
    "collapsed": false
   },
   "outputs": [],
   "source": [
    "scores"
   ]
  },
  {
   "cell_type": "code",
   "execution_count": null,
   "metadata": {
    "collapsed": false
   },
   "outputs": [],
   "source": [
    "domain = np.linspace(40000000, 150000000)\n",
    "x_small_sample = data.log_budget\n",
    "y_small_sample = data.log_gross\n",
    "\n",
    "degree, alpha = 1, 10\n",
    "\n",
    "X = np.array([x_small_sample]).T\n",
    "fig, axes = plt.subplots(1, 3, figsize=(30, 10))\n",
    "for no, my_model in enumerate([linear_model.LinearRegression(), linear_model.Ridge(alpha=alpha), linear_model.Lasso(alpha=alpha)]):    \n",
    "    model = make_pipeline(PolynomialFeatures(degree), my_model)    \n",
    "    r2, MSE = [], []\n",
    "    for k in xrange(60):  # Fit a few times the model to different training sets\n",
    "        X_train, X_test, y_train, y_test = train_test_split(X, y_small_sample, train_size=.7)\n",
    "        r2.append(model.fit(X_train, y_train).score(X_test, y_test))\n",
    "        y_pred = model.predict(np.array([domain]).T)\n",
    "        axes[no].plot(domain, y_pred, alpha=.3)\n",
    "        y_pred_sample = model.predict(np.array([x_small_sample]).T)\n",
    "        MSE.append(np.square(y_pred_sample - y_small_sample).sum())\n",
    "    axes[no].scatter(x_small_sample, y_small_sample, s=70)\n",
    "    axes[no].set_title(\"%s (R2 %.2f, MSE %3d)\" % (my_model.__class__.__name__, np.mean(scores.cv), np.mean(MSE)))\n",
    "    axes[no].set_xlim(min(domain), max(domain)), axes[no].set_ylim(-200, 200000000)"
   ]
  },
  {
   "cell_type": "code",
   "execution_count": null,
   "metadata": {
    "collapsed": true
   },
   "outputs": [],
   "source": [
    "from sklearn.cross_validation import cross_val_score, train_test_split"
   ]
  },
  {
   "cell_type": "code",
   "execution_count": null,
   "metadata": {
    "collapsed": false
   },
   "outputs": [],
   "source": [
    "features = ['pbudget', 'comedy', 'drama', 'scifi', 'animation', 'documentary', 'thriller', 'mystery', 'musical', 'children']\n",
    "X, y = data[features[:1]], data.dgross\n",
    "model = linear_model.LinearRegression()\n",
    "cross_val_score(model, X, y, cv=10).mean()\n",
    "#more features = better score"
   ]
  },
  {
   "cell_type": "code",
   "execution_count": null,
   "metadata": {
    "collapsed": false
   },
   "outputs": [],
   "source": [
    "features = ['horror', 'pbudget', 'comedy', 'drama', 'scifi']\n",
    "X, y = data[features], data.dgross\n",
    "model = linear_model.LinearRegression()\n",
    "cross_val_score(model, X, y, cv=10).mean()"
   ]
  }
 ],
 "metadata": {
  "kernelspec": {
   "display_name": "Python 2",
   "language": "python",
   "name": "python2"
  },
  "language_info": {
   "codemirror_mode": {
    "name": "ipython",
    "version": 2
   },
   "file_extension": ".py",
   "mimetype": "text/x-python",
   "name": "python",
   "nbconvert_exporter": "python",
   "pygments_lexer": "ipython2",
   "version": "2.7.12"
  }
 },
 "nbformat": 4,
 "nbformat_minor": 0
}
